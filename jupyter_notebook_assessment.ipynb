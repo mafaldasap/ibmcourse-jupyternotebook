{
 "cells": [
  {
   "cell_type": "markdown",
   "id": "073a5768-357d-4136-bcfe-4cbd98dcfc4e",
   "metadata": {},
   "source": [
    "# Data Science Tools and Ecosystem"
   ]
  },
  {
   "cell_type": "markdown",
   "id": "52ddadcf-fef6-4083-aec2-199de2b5d95a",
   "metadata": {},
   "source": [
    "In this notebook, Data Science Tools and Ecosystem are summarized."
   ]
  },
  {
   "cell_type": "markdown",
   "id": "5cac0160-4879-4cd0-9f7a-5de15a92aeaa",
   "metadata": {},
   "source": [
    "**Objectives:**\n",
    "- To create markdown cells\n",
    "- To create code cells\n",
    "- To create ordered and unordered lists\n",
    "- To create tables\n",
    "- To upload the notebook into GitHub"
   ]
  },
  {
   "cell_type": "markdown",
   "id": "ce297a93-5485-4874-b467-875b2070db14",
   "metadata": {},
   "source": [
    "## Author\n",
    "Mafalda Santiago"
   ]
  },
  {
   "cell_type": "markdown",
   "id": "4bfa1375-75b5-4e2c-9460-9faf9ebd1ee8",
   "metadata": {
    "tags": []
   },
   "source": [
    "Some of the popular languages that Data Scientists use are:\n",
    "1. Python\n",
    "2. SQL\n",
    "3. R"
   ]
  },
  {
   "cell_type": "markdown",
   "id": "cfd0c13f-1dfe-4a3e-81e3-1768a7879585",
   "metadata": {},
   "source": [
    "Some of the commonly used libraries used by Data Scientists include:\n",
    "1. TensorFlow\n",
    "2. NumPy\n",
    "3. Pandas"
   ]
  },
  {
   "cell_type": "markdown",
   "id": "393ad4bc-dafe-4a93-9bea-fa2ebabbd863",
   "metadata": {},
   "source": [
    "|Data Science Tools|\n",
    "|------------------|\n",
    "|RStudio|\n",
    "|Apache Spark|\n",
    "|TensorFlow|"
   ]
  },
  {
   "cell_type": "markdown",
   "id": "32cc5940-d3cd-4db3-91ee-65d6b617f738",
   "metadata": {},
   "source": [
    "### Below are a few examples of evaluating arithmetic expressions in Python"
   ]
  },
  {
   "cell_type": "code",
   "execution_count": 10,
   "id": "c7d74669-0bbc-4d03-adaa-5d82d26e05d9",
   "metadata": {
    "tags": []
   },
   "outputs": [
    {
     "data": {
      "text/plain": [
       "17"
      ]
     },
     "execution_count": 10,
     "metadata": {},
     "output_type": "execute_result"
    }
   ],
   "source": [
    "#This a simple arithmetic expression to mutiply then add integers\n",
    "(3*4)+5"
   ]
  },
  {
   "cell_type": "code",
   "execution_count": 11,
   "id": "0b74637c-0524-4185-80b2-c982fb78e4c9",
   "metadata": {
    "tags": []
   },
   "outputs": [
    {
     "data": {
      "text/plain": [
       "3.3333333333333335"
      ]
     },
     "execution_count": 11,
     "metadata": {},
     "output_type": "execute_result"
    }
   ],
   "source": [
    "#This will convert 200 minutes to hours by diving by 60\n",
    "200/60"
   ]
  }
 ],
 "metadata": {
  "kernelspec": {
   "display_name": "Python",
   "language": "python",
   "name": "conda-env-python-py"
  },
  "language_info": {
   "codemirror_mode": {
    "name": "ipython",
    "version": 3
   },
   "file_extension": ".py",
   "mimetype": "text/x-python",
   "name": "python",
   "nbconvert_exporter": "python",
   "pygments_lexer": "ipython3",
   "version": "3.7.12"
  }
 },
 "nbformat": 4,
 "nbformat_minor": 5
}
